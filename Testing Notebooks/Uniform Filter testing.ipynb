{
 "cells": [
  {
   "cell_type": "code",
   "execution_count": 6,
   "id": "eb479eca",
   "metadata": {},
   "outputs": [],
   "source": [
    "import numpy as np\n",
    "from scipy.ndimage import uniform_filter\n",
    "\n",
    "np.set_printoptions(precision=4)"
   ]
  },
  {
   "cell_type": "code",
   "execution_count": 7,
   "id": "cb9d60c7",
   "metadata": {},
   "outputs": [],
   "source": [
    "test = np.arange(1,10).reshape(3,3)\n",
    "\n",
    "test_mask = np.zeros((9,9))\n",
    "\n",
    "test_mask[3:-3, 3:-3] = test"
   ]
  },
  {
   "cell_type": "code",
   "execution_count": 8,
   "id": "5901d244",
   "metadata": {},
   "outputs": [
    {
     "data": {
      "text/plain": [
       "array([[0., 0., 0., 0., 0., 0., 0., 0., 0.],\n",
       "       [0., 0., 0., 0., 0., 0., 0., 0., 0.],\n",
       "       [0., 0., 0., 0., 0., 0., 0., 0., 0.],\n",
       "       [0., 0., 0., 1., 2., 3., 0., 0., 0.],\n",
       "       [0., 0., 0., 4., 5., 6., 0., 0., 0.],\n",
       "       [0., 0., 0., 7., 8., 9., 0., 0., 0.],\n",
       "       [0., 0., 0., 0., 0., 0., 0., 0., 0.],\n",
       "       [0., 0., 0., 0., 0., 0., 0., 0., 0.],\n",
       "       [0., 0., 0., 0., 0., 0., 0., 0., 0.]])"
      ]
     },
     "execution_count": 8,
     "metadata": {},
     "output_type": "execute_result"
    }
   ],
   "source": [
    "test_mask"
   ]
  },
  {
   "cell_type": "code",
   "execution_count": 14,
   "id": "c71dc945",
   "metadata": {},
   "outputs": [
    {
     "data": {
      "text/plain": [
       "array([[ 0.0000e+00,  0.0000e+00,  0.0000e+00,  0.0000e+00,  0.0000e+00,\n",
       "         0.0000e+00,  0.0000e+00,  0.0000e+00,  0.0000e+00],\n",
       "       [ 0.0000e+00,  0.0000e+00,  0.0000e+00,  0.0000e+00,  0.0000e+00,\n",
       "         0.0000e+00,  0.0000e+00,  0.0000e+00,  0.0000e+00],\n",
       "       [ 0.0000e+00,  0.0000e+00,  1.1111e-01,  3.3333e-01,  6.6667e-01,\n",
       "         5.5556e-01,  3.3333e-01,  0.0000e+00,  0.0000e+00],\n",
       "       [ 0.0000e+00,  0.0000e+00,  5.5556e-01,  1.3333e+00,  2.3333e+00,\n",
       "         1.7778e+00,  1.0000e+00, -1.4803e-16, -1.4803e-16],\n",
       "       [ 0.0000e+00,  0.0000e+00,  1.3333e+00,  3.0000e+00,  5.0000e+00,\n",
       "         3.6667e+00,  2.0000e+00,  0.0000e+00,  0.0000e+00],\n",
       "       [ 0.0000e+00,  0.0000e+00,  1.2222e+00,  2.6667e+00,  4.3333e+00,\n",
       "         3.1111e+00,  1.6667e+00,  2.9606e-16,  2.9606e-16],\n",
       "       [ 0.0000e+00,  0.0000e+00,  7.7778e-01,  1.6667e+00,  2.6667e+00,\n",
       "         1.8889e+00,  1.0000e+00, -1.4803e-16, -1.4803e-16],\n",
       "       [ 0.0000e+00,  0.0000e+00,  0.0000e+00,  0.0000e+00,  0.0000e+00,\n",
       "         0.0000e+00,  0.0000e+00,  0.0000e+00,  0.0000e+00],\n",
       "       [ 0.0000e+00,  0.0000e+00,  0.0000e+00,  0.0000e+00,  0.0000e+00,\n",
       "         0.0000e+00,  0.0000e+00,  0.0000e+00,  0.0000e+00]])"
      ]
     },
     "execution_count": 14,
     "metadata": {},
     "output_type": "execute_result"
    }
   ],
   "source": [
    "test_filter = uniform_filter(test_mask)\n",
    "\n",
    "test_filter"
   ]
  },
  {
   "cell_type": "code",
   "execution_count": 15,
   "id": "c0646134",
   "metadata": {},
   "outputs": [
    {
     "data": {
      "text/plain": [
       "array([[0., 0., 0., 0., 0., 0., 0., 0., 0.],\n",
       "       [0., 0., 0., 0., 0., 0., 0., 0., 0.],\n",
       "       [0., 0., 0., 0., 0., 0., 0., 0., 0.],\n",
       "       [0., 0., 0., 1., 1., 1., 0., 0., 0.],\n",
       "       [0., 0., 0., 1., 1., 1., 0., 0., 0.],\n",
       "       [0., 0., 0., 1., 1., 1., 0., 0., 0.],\n",
       "       [0., 0., 0., 0., 0., 0., 0., 0., 0.],\n",
       "       [0., 0., 0., 0., 0., 0., 0., 0., 0.],\n",
       "       [0., 0., 0., 0., 0., 0., 0., 0., 0.]])"
      ]
     },
     "execution_count": 15,
     "metadata": {},
     "output_type": "execute_result"
    }
   ],
   "source": [
    "bg_mask = np.zeros((9,9))\n",
    "\n",
    "bg_mask[3:-3, 3:-3] = 1\n",
    "\n",
    "bg_mask"
   ]
  },
  {
   "cell_type": "code",
   "execution_count": 17,
   "id": "02f83c4f",
   "metadata": {},
   "outputs": [
    {
     "data": {
      "text/plain": [
       "array([[0.0000e+00, 0.0000e+00, 0.0000e+00, 0.0000e+00, 0.0000e+00,\n",
       "        0.0000e+00, 0.0000e+00, 0.0000e+00, 0.0000e+00],\n",
       "       [0.0000e+00, 0.0000e+00, 0.0000e+00, 0.0000e+00, 0.0000e+00,\n",
       "        0.0000e+00, 0.0000e+00, 0.0000e+00, 0.0000e+00],\n",
       "       [0.0000e+00, 0.0000e+00, 1.1111e-01, 2.2222e-01, 3.3333e-01,\n",
       "        2.2222e-01, 1.1111e-01, 3.7007e-17, 3.7007e-17],\n",
       "       [0.0000e+00, 0.0000e+00, 2.2222e-01, 4.4444e-01, 6.6667e-01,\n",
       "        4.4444e-01, 2.2222e-01, 7.4015e-17, 7.4015e-17],\n",
       "       [0.0000e+00, 0.0000e+00, 3.3333e-01, 6.6667e-01, 1.0000e+00,\n",
       "        6.6667e-01, 3.3333e-01, 0.0000e+00, 0.0000e+00],\n",
       "       [0.0000e+00, 0.0000e+00, 2.2222e-01, 4.4444e-01, 6.6667e-01,\n",
       "        4.4444e-01, 2.2222e-01, 7.4015e-17, 7.4015e-17],\n",
       "       [0.0000e+00, 0.0000e+00, 1.1111e-01, 2.2222e-01, 3.3333e-01,\n",
       "        2.2222e-01, 1.1111e-01, 3.7007e-17, 3.7007e-17],\n",
       "       [0.0000e+00, 0.0000e+00, 0.0000e+00, 0.0000e+00, 0.0000e+00,\n",
       "        0.0000e+00, 0.0000e+00, 0.0000e+00, 0.0000e+00],\n",
       "       [0.0000e+00, 0.0000e+00, 0.0000e+00, 0.0000e+00, 0.0000e+00,\n",
       "        0.0000e+00, 0.0000e+00, 0.0000e+00, 0.0000e+00]])"
      ]
     },
     "execution_count": 17,
     "metadata": {},
     "output_type": "execute_result"
    }
   ],
   "source": [
    "weights = uniform_filter(bg_mask)\n",
    "\n",
    "weights"
   ]
  },
  {
   "cell_type": "code",
   "execution_count": 19,
   "id": "0a810a44",
   "metadata": {},
   "outputs": [
    {
     "name": "stderr",
     "output_type": "stream",
     "text": [
      "C:\\Users\\Jonny\\AppData\\Local\\Temp\\ipykernel_19648\\2036960033.py:1: RuntimeWarning: invalid value encountered in divide\n",
      "  np.where(weights > 0.016, test_filter / weights, 0)\n"
     ]
    },
    {
     "data": {
      "text/plain": [
       "array([[0. , 0. , 0. , 0. , 0. , 0. , 0. , 0. , 0. ],\n",
       "       [0. , 0. , 0. , 0. , 0. , 0. , 0. , 0. , 0. ],\n",
       "       [0. , 0. , 1. , 1.5, 2. , 2.5, 3. , 0. , 0. ],\n",
       "       [0. , 0. , 2.5, 3. , 3.5, 4. , 4.5, 0. , 0. ],\n",
       "       [0. , 0. , 4. , 4.5, 5. , 5.5, 6. , 0. , 0. ],\n",
       "       [0. , 0. , 5.5, 6. , 6.5, 7. , 7.5, 0. , 0. ],\n",
       "       [0. , 0. , 7. , 7.5, 8. , 8.5, 9. , 0. , 0. ],\n",
       "       [0. , 0. , 0. , 0. , 0. , 0. , 0. , 0. , 0. ],\n",
       "       [0. , 0. , 0. , 0. , 0. , 0. , 0. , 0. , 0. ]])"
      ]
     },
     "execution_count": 19,
     "metadata": {},
     "output_type": "execute_result"
    }
   ],
   "source": [
    "np.where(weights > 0.016, test_filter / weights, 0)"
   ]
  },
  {
   "cell_type": "code",
   "execution_count": null,
   "id": "15568a9c",
   "metadata": {},
   "outputs": [],
   "source": []
  }
 ],
 "metadata": {
  "kernelspec": {
   "display_name": "Python [conda env:gdal_new]",
   "language": "python",
   "name": "conda-env-gdal_new-py"
  },
  "language_info": {
   "codemirror_mode": {
    "name": "ipython",
    "version": 3
   },
   "file_extension": ".py",
   "mimetype": "text/x-python",
   "name": "python",
   "nbconvert_exporter": "python",
   "pygments_lexer": "ipython3",
   "version": "3.11.5"
  }
 },
 "nbformat": 4,
 "nbformat_minor": 5
}
