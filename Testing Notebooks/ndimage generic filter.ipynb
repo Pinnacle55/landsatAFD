{
 "cells": [
  {
   "cell_type": "code",
   "execution_count": 7,
   "id": "3094e9c6",
   "metadata": {},
   "outputs": [],
   "source": [
    "import numpy as np\n",
    "from scipy.ndimage import generic_filter, uniform_filter"
   ]
  },
  {
   "cell_type": "code",
   "execution_count": 22,
   "id": "b113e072",
   "metadata": {},
   "outputs": [],
   "source": [
    "test = np.random.random((1000,1000))"
   ]
  },
  {
   "cell_type": "code",
   "execution_count": 23,
   "id": "0df5c7a1",
   "metadata": {},
   "outputs": [
    {
     "name": "stdout",
     "output_type": "stream",
     "text": [
      "CPU times: total: 46.9 ms\n",
      "Wall time: 27.4 ms\n"
     ]
    },
    {
     "data": {
      "text/plain": [
       "array([[0.2654605 , 0.26848036, 0.27152632, ..., 0.27009687, 0.26655897,\n",
       "        0.26285119],\n",
       "       [0.26884278, 0.27190836, 0.27487486, ..., 0.27289172, 0.26947247,\n",
       "        0.26573562],\n",
       "       [0.27236979, 0.27531697, 0.27847337, ..., 0.2761315 , 0.27283426,\n",
       "        0.26892734],\n",
       "       ...,\n",
       "       [0.26908479, 0.27222197, 0.27568638, ..., 0.27980788, 0.27735505,\n",
       "        0.27392337],\n",
       "       [0.26641887, 0.26942257, 0.27274218, ..., 0.27695793, 0.27465763,\n",
       "        0.27111124],\n",
       "       [0.2639689 , 0.2669685 , 0.27030339, ..., 0.27457081, 0.27225939,\n",
       "        0.26861007]])"
      ]
     },
     "execution_count": 23,
     "metadata": {},
     "output_type": "execute_result"
    }
   ],
   "source": [
    "%%time\n",
    "\n",
    "np.sqrt(uniform_filter(test**2, size = 61, mode = \"constant\") - uniform_filter(test, size = 61, mode = \"constant\")**2)"
   ]
  },
  {
   "cell_type": "code",
   "execution_count": 24,
   "id": "dd5d2601",
   "metadata": {},
   "outputs": [
    {
     "name": "stdout",
     "output_type": "stream",
     "text": [
      "CPU times: total: 19.6 s\n",
      "Wall time: 19.9 s\n"
     ]
    },
    {
     "data": {
      "text/plain": [
       "array([[0.2654605 , 0.26848036, 0.27152632, ..., 0.27009687, 0.26655897,\n",
       "        0.26285119],\n",
       "       [0.26884278, 0.27190836, 0.27487486, ..., 0.27289172, 0.26947247,\n",
       "        0.26573562],\n",
       "       [0.27236979, 0.27531697, 0.27847337, ..., 0.2761315 , 0.27283426,\n",
       "        0.26892734],\n",
       "       ...,\n",
       "       [0.26908479, 0.27222197, 0.27568638, ..., 0.27980788, 0.27735505,\n",
       "        0.27392337],\n",
       "       [0.26641887, 0.26942257, 0.27274218, ..., 0.27695793, 0.27465763,\n",
       "        0.27111124],\n",
       "       [0.2639689 , 0.2669685 , 0.27030339, ..., 0.27457081, 0.27225939,\n",
       "        0.26861007]])"
      ]
     },
     "execution_count": 24,
     "metadata": {},
     "output_type": "execute_result"
    }
   ],
   "source": [
    "%%time\n",
    "\n",
    "generic_filter(test, np.std, size = 61, mode = \"constant\")"
   ]
  },
  {
   "cell_type": "code",
   "execution_count": null,
   "id": "ea01d49b",
   "metadata": {},
   "outputs": [],
   "source": []
  }
 ],
 "metadata": {
  "kernelspec": {
   "display_name": "Python [conda env:gdal]",
   "language": "python",
   "name": "conda-env-gdal-py"
  },
  "language_info": {
   "codemirror_mode": {
    "name": "ipython",
    "version": 3
   },
   "file_extension": ".py",
   "mimetype": "text/x-python",
   "name": "python",
   "nbconvert_exporter": "python",
   "pygments_lexer": "ipython3",
   "version": "3.11.5"
  }
 },
 "nbformat": 4,
 "nbformat_minor": 5
}
